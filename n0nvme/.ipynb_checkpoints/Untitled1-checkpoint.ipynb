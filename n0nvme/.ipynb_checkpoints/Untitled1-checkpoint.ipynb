{
 "cells": [
  {
   "cell_type": "code",
   "execution_count": 4,
   "metadata": {
    "collapsed": false
   },
   "outputs": [
    {
     "name": "stdout",
     "output_type": "stream",
     "text": [
      "<class 'dict'>\n"
     ]
    }
   ],
   "source": [
    "f=open('users_likes.txt')\n",
    "a=eval(f.read()[8:-1])\n",
    "f.close()\n",
    "print(type(a))"
   ]
  },
  {
   "cell_type": "code",
   "execution_count": 15,
   "metadata": {
    "collapsed": false
   },
   "outputs": [],
   "source": [
    "data=str(list(a.keys()))[1:-1].replace(' ','')"
   ]
  },
  {
   "cell_type": "code",
   "execution_count": 20,
   "metadata": {
    "collapsed": false
   },
   "outputs": [],
   "source": [
    "import requests as r\n",
    "code='''var dict = [];\n",
    "var i = 0;\n",
    "var users = Args.users;\n",
    "var groups;\n",
    "var subs;\n",
    "users = users.split(\",\");\n",
    "while (i < users.length){\n",
    "    groups = API.groups.get({\"user_id\":parseInt(users[i]), \"count\":1000});\n",
    "    subs = API.users.getSubscriptions({\"user_id\":parseInt(users[i]), \"count\":200});'''\n",
    "\n",
    "\n",
    "\n",
    "a=r.get('https://api.vk.com/method/execute.get_users_groups?users='+data+'&client_id=4869438').text"
   ]
  },
  {
   "cell_type": "code",
   "execution_count": 21,
   "metadata": {
    "collapsed": false
   },
   "outputs": [
    {
     "name": "stdout",
     "output_type": "stream",
     "text": [
      "<html>\r\n",
      "<head><title>414 Request-URI Too Large</title></head>\r\n",
      "<body bgcolor=\"white\">\r\n",
      "<center><h1>414 Request-URI Too Large</h1></center>\r\n",
      "<hr><center> Apache </center>\r\n",
      "</body>\r\n",
      "</html>\r\n",
      "\n"
     ]
    }
   ],
   "source": [
    "print(a)"
   ]
  },
  {
   "cell_type": "code",
   "execution_count": null,
   "metadata": {
    "collapsed": true
   },
   "outputs": [],
   "source": []
  }
 ],
 "metadata": {
  "anaconda-cloud": {},
  "kernelspec": {
   "display_name": "Python [conda root]",
   "language": "python",
   "name": "conda-root-py"
  },
  "language_info": {
   "codemirror_mode": {
    "name": "ipython",
    "version": 3
   },
   "file_extension": ".py",
   "mimetype": "text/x-python",
   "name": "python",
   "nbconvert_exporter": "python",
   "pygments_lexer": "ipython3",
   "version": "3.5.2"
  }
 },
 "nbformat": 4,
 "nbformat_minor": 1
}
