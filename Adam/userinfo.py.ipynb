{
 "cells": [
  {
   "cell_type": "code",
   "execution_count": 312,
   "metadata": {
    "collapsed": true
   },
   "outputs": [],
   "source": []
  },
  {
   "cell_type": "code",
   "execution_count": 19,
   "metadata": {
    "collapsed": false
   },
   "outputs": [],
   "source": [
    "def get_user_info(id) -> \"age, sex, city\":\n",
    "    api = \"https://api.vk.com/method/users.get?user_ids=%s&fields=city,sex,timezone,bdate\" % id\n",
    "    info = requests.get(api).json()[\"response\"][0]\n",
    "    bdate = info[\"bdate\"]\n",
    "    age = 2016 - int(bdate.split(\".\")[-1])\n",
    "    if age > 50:\n",
    "        return\n",
    "    city = info[\"city\"]\n",
    "    sex = info[\"sex\"]\n",
    "   \n",
    "    return [age, sex, city]"
   ]
  },
  {
   "cell_type": "code",
   "execution_count": 253,
   "metadata": {
    "collapsed": true
   },
   "outputs": [],
   "source": [
    "import requests\n",
    "import numpy as np\n",
    "import pandas as pd\n",
    "import sys"
   ]
  },
  {
   "cell_type": "code",
   "execution_count": 267,
   "metadata": {
    "collapsed": true
   },
   "outputs": [],
   "source": [
    "import urllib.request as urllib"
   ]
  },
  {
   "cell_type": "code",
   "execution_count": 310,
   "metadata": {
    "collapsed": false
   },
   "outputs": [],
   "source": [
    "import vk_api"
   ]
  },
  {
   "cell_type": "code",
   "execution_count": 314,
   "metadata": {
    "collapsed": false
   },
   "outputs": [],
   "source": [
    "login = 'adamildarov@mail.ru'\n",
    "vk_session = vk_api.VkApi(login, password)\n",
    "\n",
    "try:\n",
    "    vk_session.authorization()\n",
    "except vk_api.AuthorizationError as error_msg:\n",
    "    print(error_msg)\n",
    "\n",
    "vk = vk_session.get_api()"
   ]
  },
  {
   "cell_type": "code",
   "execution_count": 318,
   "metadata": {
    "collapsed": false
   },
   "outputs": [
    {
     "name": "stdout",
     "output_type": "stream",
     "text": [
      "{'items': [{'reposts': {'count': 0, 'user_reposted': 0}, 'from_id': 81973081, 'copy_history': [{'attachments': [{'type': 'photo', 'photo': {'photo_604': 'https://pp.vk.me/c7002/v7002843/e7c7/Qm4eD0mhd5c.jpg', 'user_id': 100, 'width': 1061, 'id': 385632923, 'photo_1280': 'https://pp.vk.me/c7002/v7002843/e7c9/KUZkkK783iI.jpg', 'album_id': -7, 'height': 793, 'photo_75': 'https://pp.vk.me/c7002/v7002843/e7c5/p8ut54qQcs0.jpg', 'owner_id': -29534144, 'text': '', 'date': 1446060751, 'photo_130': 'https://pp.vk.me/c7002/v7002843/e7c6/BRD8o0eGveA.jpg', 'photo_807': 'https://pp.vk.me/c7002/v7002843/e7c8/eD43anwVW8o.jpg', 'access_key': 'ab48eddf18227a6fee'}}, {'page': {'view_url': 'https://m.vk.com/page-29534144_49809543?api_view=a3d39c31e40af00a770aa315368914', 'edited': 0, 'created': 1446059124, 'id': 49809543, 'group_id': 29534144, 'who_can_view': 2, 'title': 'Россию исключили из списка стран со свободным интернетом', 'views': 35609, 'who_can_edit': 0}, 'type': 'page'}], 'owner_id': -29534144, 'from_id': -29534144, 'date': 1446062117, 'id': 2348187, 'post_source': {'type': 'vk'}, 'post_type': 'post', 'text': 'Россию исключили из списка стран со свободным интернетом'}], 'id': 930, 'can_delete': 1, 'post_type': 'post', 'text': '', 'owner_id': 81973081, 'is_pinned': 1, 'date': 1446064316, 'can_pin': 1, 'post_source': {'type': 'api', 'platform': 'ipad'}, 'likes': {'can_like': 1, 'user_likes': 0, 'count': 1, 'can_publish': 0}, 'comments': {'count': 0, 'can_post': 1}}], 'count': 211}\n"
     ]
    }
   ],
   "source": [
    "response = vk.wall.get(count=1)  # Используем метод wall.get\n",
    "print(response)"
   ]
  },
  {
   "cell_type": "code",
   "execution_count": 20,
   "metadata": {
    "collapsed": false
   },
   "outputs": [
    {
     "name": "stdout",
     "output_type": "stream",
     "text": [
      "<class 'dict'>\n"
     ]
    }
   ],
   "source": [
    "f=open('../n0nvme/users_likes.txt')\n",
    "a=eval(f.read()[8:-1])\n",
    "f.close()\n",
    "print(type(a))"
   ]
  },
  {
   "cell_type": "code",
   "execution_count": 21,
   "metadata": {
    "collapsed": false
   },
   "outputs": [],
   "source": [
    "data=str(list(a.keys()))[1:-1].replace(' ','')"
   ]
  },
  {
   "cell_type": "code",
   "execution_count": 35,
   "metadata": {
    "collapsed": true
   },
   "outputs": [],
   "source": [
    "r = requests.post(\"https://api.vk.com/method/execute/get_users_groups\", data={\"users\": data_part1})"
   ]
  },
  {
   "cell_type": "code",
   "execution_count": 184,
   "metadata": {
    "collapsed": false
   },
   "outputs": [],
   "source": [
    "data_part1 = \",\".join(data.split(\",\")[:10])\n",
    "data_part2 = data[18997:]"
   ]
  },
  {
   "cell_type": "code",
   "execution_count": 292,
   "metadata": {
    "collapsed": false
   },
   "outputs": [],
   "source": [
    "code = 'var dict = {};var i = 0;var users = \"%s\";var groups;var subs;users = users.split(\",\");while (i < users.length){groups = API.groups.get({\"user_id\":parseInt(users[i]), \"count\":1000});subs = API.users.getSubscriptions({\"user_id\":parseInt(users[i]), \"count\":200});dict.push({key:users[i],val: groups[\"items\"] + subs[\"items\"]});i = i + 1;}return dict;'"
   ]
  },
  {
   "cell_type": "code",
   "execution_count": 303,
   "metadata": {
    "collapsed": true
   },
   "outputs": [],
   "source": [
    "q = requests.post(\"https://api.vk.com/method/execute?\", data={\"code\": code % \"228\", \"access_token\": \"a1e11f195522f1f3ff7b299cc05dbd17467100fd55e3213d02753a7ace63b711f604f2944b42ae86e385f\"})"
   ]
  },
  {
   "cell_type": "code",
   "execution_count": 301,
   "metadata": {
    "collapsed": false
   },
   "outputs": [],
   "source": [
    "o = requests.post('https://api.vk.com/method/execute.get_users_groups?', data={'users': \"228\", \"access_token\": \"b9c3696d201172db4ce1152f383ce4c3f8053658f446b6428bb262bbd04a9100560606ad51c7aa3ba925e\"})\n",
    "#print('https://api.vk.com/method/execute.get_users_groups', {'users': \"81973081\", \"access_token\": \"a1e11f195522f1f3ff7b299cc05dbd17467100fd55e3213d02753a7ace63b711f604f2944b42ae86e385f\"})"
   ]
  },
  {
   "cell_type": "code",
   "execution_count": 215,
   "metadata": {
    "collapsed": true
   },
   "outputs": [],
   "source": [
    "o = requests.post('https://api.vk.com/method/execute.get_users_groups', {'users': data_part1, \"access_token\": \"a1e11f195522f1f3ff7b299cc05dbd17467100fd55e3213d02753a7ace63b711f604f2944b42ae86e385f\"})"
   ]
  },
  {
   "cell_type": "code",
   "execution_count": 306,
   "metadata": {
    "collapsed": false
   },
   "outputs": [
    {
     "name": "stdout",
     "output_type": "stream",
     "text": [
      "{'response': [{'val': '', 'key': '228'}]}\n",
      "{'response': [{'val': '', 'key': '228'}]}\n"
     ]
    }
   ],
   "source": [
    "print(o.json())\n",
    "print(q.json())"
   ]
  },
  {
   "cell_type": "code",
   "execution_count": 261,
   "metadata": {
    "collapsed": true
   },
   "outputs": [],
   "source": [
    "postsDF = pd.read_csv(\"../n0nvme/posts_45491419.csv\")k"
   ]
  },
  {
   "cell_type": "code",
   "execution_count": 200,
   "metadata": {
    "collapsed": false
   },
   "outputs": [
    {
     "name": "stdout",
     "output_type": "stream",
     "text": [
      "303038465,84606978,188383607,9175044,95223817,38928394,36001111,142999564,393231,81199120\n"
     ]
    }
   ],
   "source": [
    "print(data_part1)"
   ]
  },
  {
   "cell_type": "code",
   "execution_count": 296,
   "metadata": {
    "collapsed": false
   },
   "outputs": [
    {
     "data": {
      "text/plain": [
       "'var dict = {};var i = 0;var users = \"228\";var groups;var subs;users = users.split(\",\");while (i < users.length){groups = API.groups.get({\"user_id\":parseInt(users[i]), \"count\":1000});subs = API.users.getSubscriptions({\"user_id\":parseInt(users[i]), \"count\":200});dict.push({key:users[i],val: groups[\"items\"] + subs[\"items\"]});i = i + 1;}return dict;'"
      ]
     },
     "execution_count": 296,
     "metadata": {},
     "output_type": "execute_result"
    }
   ],
   "source": [
    "code % 228"
   ]
  },
  {
   "cell_type": "code",
   "execution_count": 300,
   "metadata": {
    "collapsed": false
   },
   "outputs": [
    {
     "data": {
      "text/plain": [
       "'{\"response\":[{\"key\":\"228\",\"val\":\"\"}]}'"
      ]
     },
     "execution_count": 300,
     "metadata": {},
     "output_type": "execute_result"
    }
   ],
   "source": [
    "o.text"
   ]
  },
  {
   "cell_type": "code",
   "execution_count": 323,
   "metadata": {
    "collapsed": false
   },
   "outputs": [],
   "source": [
    "tools = vk_api.VkTools(vk)"
   ]
  },
  {
   "cell_type": "code",
   "execution_count": 357,
   "metadata": {
    "collapsed": false
   },
   "outputs": [],
   "source": [
    " with vk_api.VkRequestsPool(vk_session) as pool:\n",
    "    friends = pool.method(\"groups.get\", {\"user_id\": 1})"
   ]
  },
  {
   "cell_type": "code",
   "execution_count": 359,
   "metadata": {
    "collapsed": false
   },
   "outputs": [
    {
     "data": {
      "text/plain": [
       "{'count': 45,\n",
       " 'items': [35001375,\n",
       "  64980878,\n",
       "  90767168,\n",
       "  20629724,\n",
       "  32295218,\n",
       "  22822305,\n",
       "  29534144,\n",
       "  23509777,\n",
       "  50988517,\n",
       "  34384434,\n",
       "  41208167,\n",
       "  41437811,\n",
       "  38793584,\n",
       "  20537665,\n",
       "  47717446,\n",
       "  76477496,\n",
       "  2158488,\n",
       "  30622286,\n",
       "  37110020,\n",
       "  27124372,\n",
       "  49849615,\n",
       "  30567948,\n",
       "  31950009,\n",
       "  39281167,\n",
       "  49128190,\n",
       "  36045680,\n",
       "  78051345,\n",
       "  78051184,\n",
       "  36574169,\n",
       "  60615047,\n",
       "  50244593,\n",
       "  38718467,\n",
       "  47478178,\n",
       "  28598905,\n",
       "  32277870,\n",
       "  60140141,\n",
       "  50321053,\n",
       "  50348171,\n",
       "  33737722,\n",
       "  3305,\n",
       "  33368629,\n",
       "  34523318,\n",
       "  36327213,\n",
       "  43453499,\n",
       "  49110120]}"
      ]
     },
     "execution_count": 359,
     "metadata": {},
     "output_type": "execute_result"
    }
   ],
   "source": [
    "friends.result"
   ]
  },
  {
   "cell_type": "code",
   "execution_count": 360,
   "metadata": {
    "collapsed": true
   },
   "outputs": [],
   "source": [
    "def get_groups(id):\n",
    "    with vk_api.VkRequestsPool(vk_session) as pool:\n",
    "        groups = pool.method(\"groups.get\", {\"user_id\": 1})\n",
    "    return groups.result[\"items\"]"
   ]
  },
  {
   "cell_type": "code",
   "execution_count": 384,
   "metadata": {
    "collapsed": false
   },
   "outputs": [],
   "source": [
    "w = open(\"froups.txt\", \"w\")\n",
    "r = open(\"../n0nvme/users_likes.txt\", \"r\")"
   ]
  },
  {
   "cell_type": "code",
   "execution_count": null,
   "metadata": {
    "collapsed": true
   },
   "outputs": [],
   "source": [
    "a=eval(f.read()[8:-1])"
   ]
  },
  {
   "cell_type": "code",
   "execution_count": 375,
   "metadata": {
    "collapsed": false
   },
   "outputs": [
    {
     "name": "stdout",
     "output_type": "stream",
     "text": [
      "['303038465', '84606978', '188383607']\n"
     ]
    }
   ],
   "source": [
    "data=str(list(a.keys()))[1:-1].replace(' ','').split(\",\")\n",
    "print(data[:3])"
   ]
  },
  {
   "cell_type": "code",
   "execution_count": 389,
   "metadata": {
    "collapsed": true
   },
   "outputs": [],
   "source": [
    "from collections import Counter\n",
    "o = Counter()\n"
   ]
  },
  {
   "cell_type": "code",
   "execution_count": 391,
   "metadata": {
    "collapsed": false
   },
   "outputs": [
    {
     "data": {
      "text/plain": [
       "37995"
      ]
     },
     "execution_count": 391,
     "metadata": {},
     "output_type": "execute_result"
    }
   ],
   "source": [
    "len(data)"
   ]
  },
  {
   "cell_type": "code",
   "execution_count": 393,
   "metadata": {
    "collapsed": true
   },
   "outputs": [],
   "source": [
    "from multiprocessing import Pool\n",
    "from multiprocessing.dummy import Pool as ThreadPool"
   ]
  },
  {
   "cell_type": "code",
   "execution_count": null,
   "metadata": {
    "collapsed": true
   },
   "outputs": [],
   "source": [
    "lst = []"
   ]
  },
  {
   "cell_type": "code",
   "execution_count": null,
   "metadata": {
    "collapsed": false
   },
   "outputs": [],
   "source": [
    "pool = ThreadPool()\n",
    "\n",
    "\n",
    "lst = list(pool.map(get_groups, data))\n",
    "\n",
    "\n",
    "pool.close()\n",
    "pool.join()\n",
    "\n",
    "\n",
    "#for a in data:\n",
    "#    o[a] = get_groups(a)"
   ]
  },
  {
   "cell_type": "code",
   "execution_count": null,
   "metadata": {
    "collapsed": false
   },
   "outputs": [],
   "source": [
    "print(lst[0])"
   ]
  },
  {
   "cell_type": "code",
   "execution_count": 382,
   "metadata": {
    "collapsed": true
   },
   "outputs": [],
   "source": [
    "w.write(str(o))"
   ]
  },
  {
   "cell_type": "code",
   "execution_count": null,
   "metadata": {
    "collapsed": true
   },
   "outputs": [],
   "source": [
    "o"
   ]
  },
  {
   "cell_type": "code",
   "execution_count": null,
   "metadata": {
    "collapsed": true
   },
   "outputs": [],
   "source": []
  }
 ],
 "metadata": {
  "anaconda-cloud": {},
  "kernelspec": {
   "display_name": "Python [conda root]",
   "language": "python",
   "name": "conda-root-py"
  },
  "language_info": {
   "codemirror_mode": {
    "name": "ipython",
    "version": 3
   },
   "file_extension": ".py",
   "mimetype": "text/x-python",
   "name": "python",
   "nbconvert_exporter": "python",
   "pygments_lexer": "ipython3",
   "version": "3.5.2"
  }
 },
 "nbformat": 4,
 "nbformat_minor": 1
}
