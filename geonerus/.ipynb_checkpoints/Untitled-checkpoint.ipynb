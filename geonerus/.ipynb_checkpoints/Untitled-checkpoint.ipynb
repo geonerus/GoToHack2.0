{
 "cells": [
  {
   "cell_type": "code",
   "execution_count": 13,
   "metadata": {
    "collapsed": false
   },
   "outputs": [
    {
     "name": "stdout",
     "output_type": "stream",
     "text": [
      "(75, 2, 21)\n"
     ]
    }
   ],
   "source": [
    "import requests as r\n",
    "import json\n",
    "def GetTeens(ID):\n",
    "    Teens=0\n",
    "    Girls=0\n",
    "    Data=json.loads(r.get('https://api.vk.com/method/friends.get?user_id='+str(ID)+'&fields=bdate,sex&v=5.60').text)['response']\n",
    "    Count=int(Data['count'])\n",
    "    for friend in Data['items']:\n",
    "    \n",
    "        if  'bdate' in friend.keys()  and 3 == len(friend['bdate'].split('.')) and int(friend['bdate'].split('.')[2])>2000:\n",
    "            Teens+=1\n",
    "        if 'bdate' in friend.keys() and int(friend['sex'])==1:\n",
    "             Girls+=1\n",
    "    return Count,Teens,Girls\n",
    "print(GetTeens(182272428))\n",
    "\n",
    "    \n",
    "    \n",
    "\n"
   ]
  },
  {
   "cell_type": "code",
   "execution_count": null,
   "metadata": {
    "collapsed": true
   },
   "outputs": [],
   "source": [
    "from skelarn.decom"
   ]
  },
  {
   "cell_type": "code",
   "execution_count": null,
   "metadata": {
    "collapsed": true
   },
   "outputs": [],
   "source": []
  }
 ],
 "metadata": {
  "anaconda-cloud": {},
  "kernelspec": {
   "display_name": "Python [conda root]",
   "language": "python",
   "name": "conda-root-py"
  },
  "language_info": {
   "codemirror_mode": {
    "name": "ipython",
    "version": 3
   },
   "file_extension": ".py",
   "mimetype": "text/x-python",
   "name": "python",
   "nbconvert_exporter": "python",
   "pygments_lexer": "ipython3",
   "version": "3.5.2"
  }
 },
 "nbformat": 4,
 "nbformat_minor": 1
}
