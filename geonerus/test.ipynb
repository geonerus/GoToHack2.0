{
 "cells": [
  {
   "cell_type": "code",
   "execution_count": 13,
   "metadata": {
    "collapsed": false
   },
   "outputs": [],
   "source": [
    "import platform\n",
    "from sklearn.cluster import KMeans\n",
    "import requests as\n",
    "import json"
   ]
  },
  {
   "cell_type": "code",
   "execution_count": 6,
   "metadata": {
    "collapsed": false
   },
   "outputs": [
    {
     "name": "stdout",
     "output_type": "stream",
     "text": [
      "#68-Ubuntu SMP Wed Oct 26 19:39:52 UTC 2016\n"
     ]
    }
   ],
   "source": [
    "print(platform.version())"
   ]
  },
  {
   "cell_type": "code",
   "execution_count": 24,
   "metadata": {
    "collapsed": false
   },
   "outputs": [
    {
     "name": "stdout",
     "output_type": "stream",
     "text": [
      "{'error': {'request_params': [{'key': 'oauth', 'value': '1'}, {'key': 'method', 'value': 'user.getSubscriptions'}, {'key': 'user_id', 'value': '83645730'}, {'key': 'v', 'value': '5.43 '}], 'error_code': 5, 'error_msg': 'User authorization failed: access_token was given to another ip address.'}}\n",
      "{'error': {'request_params': [{'key': 'oauth', 'value': '1'}, {'key': 'method', 'value': 'user.getSubscriptions'}, {'key': 'user_id', 'value': '83645731'}, {'key': 'v', 'value': '5.43 '}], 'error_code': 5, 'error_msg': 'User authorization failed: access_token was given to another ip address.'}}\n",
      "{'error': {'request_params': [{'key': 'oauth', 'value': '1'}, {'key': 'method', 'value': 'user.getSubscriptions'}, {'key': 'user_id', 'value': '83645732'}, {'key': 'v', 'value': '5.43 '}], 'error_code': 5, 'error_msg': 'User authorization failed: access_token was given to another ip address.'}}\n",
      "{'error': {'request_params': [{'key': 'oauth', 'value': '1'}, {'key': 'method', 'value': 'user.getSubscriptions'}, {'key': 'user_id', 'value': '83645733'}, {'key': 'v', 'value': '5.43 '}], 'error_code': 5, 'error_msg': 'User authorization failed: access_token was given to another ip address.'}}\n",
      "{'error': {'request_params': [{'key': 'oauth', 'value': '1'}, {'key': 'method', 'value': 'user.getSubscriptions'}, {'key': 'user_id', 'value': '83645734'}, {'key': 'v', 'value': '5.43 '}], 'error_code': 5, 'error_msg': 'User authorization failed: access_token was given to another ip address.'}}\n",
      "{'error': {'request_params': [{'key': 'oauth', 'value': '1'}, {'key': 'method', 'value': 'user.getSubscriptions'}, {'key': 'user_id', 'value': '83645735'}, {'key': 'v', 'value': '5.43 '}], 'error_code': 5, 'error_msg': 'User authorization failed: access_token was given to another ip address.'}}\n",
      "{'error': {'request_params': [{'key': 'oauth', 'value': '1'}, {'key': 'method', 'value': 'user.getSubscriptions'}, {'key': 'user_id', 'value': '83645736'}, {'key': 'v', 'value': '5.43 '}], 'error_code': 5, 'error_msg': 'User authorization failed: access_token was given to another ip address.'}}\n",
      "{'error': {'request_params': [{'key': 'oauth', 'value': '1'}, {'key': 'method', 'value': 'user.getSubscriptions'}, {'key': 'user_id', 'value': '83645737'}, {'key': 'v', 'value': '5.43 '}], 'error_code': 5, 'error_msg': 'User authorization failed: access_token was given to another ip address.'}}\n",
      "{'error': {'request_params': [{'key': 'oauth', 'value': '1'}, {'key': 'method', 'value': 'user.getSubscriptions'}, {'key': 'user_id', 'value': '83645738'}, {'key': 'v', 'value': '5.43 '}], 'error_code': 5, 'error_msg': 'User authorization failed: access_token was given to another ip address.'}}\n",
      "{'error': {'request_params': [{'key': 'oauth', 'value': '1'}, {'key': 'method', 'value': 'user.getSubscriptions'}, {'key': 'user_id', 'value': '83645739'}, {'key': 'v', 'value': '5.43 '}], 'error_code': 5, 'error_msg': 'User authorization failed: access_token was given to another ip address.'}}\n"
     ]
    }
   ],
   "source": [
    "#https://api.vk.com/method/METHOD_NAME?PARAMETERS&access_token=ACCESS_TOKEN&v=V \n",
    "users=[]\n",
    "for a in range(83645730,83645740):\n",
    "    tmp=json.loads(r.get('https://api.vk.com/method/user.getSubscriptions?user_id='+str(a)+'&access_token=a4b37b235c559ff4cf17f7db3fdffd775867cc1faa80d864415f99d93ca933fad8fcdbc8ae96dc788ccc5&v=5.43 ').text)\n",
    "    print(tmp)"
   ]
  },
  {
   "cell_type": "code",
   "execution_count": null,
   "metadata": {
    "collapsed": false
   },
   "outputs": [
    {
     "name": "stdout",
     "output_type": "stream",
     "text": [
      "Automatically created module for IPython interactive environment\n"
     ]
    }
   ],
   "source": [
    "print(__doc__)\n",
    "\n",
    "\n",
    "# Code source: Gaël Varoquaux\n",
    "# License: BSD 3 clause\n",
    "\n",
    "import numpy as np\n",
    "import matplotlib.pyplot as plt\n",
    "from mpl_toolkits.mplot3d import Axes3D\n",
    "\n",
    "\n",
    "from sklearn import decomposition\n",
    "from sklearn import datasets\n",
    "\n",
    "np.random.seed(5)\n",
    "\n",
    "centers = [[1, 1], [-1, -1], [1, -1]]\n",
    "iris = datasets.load_iris()\n",
    "X = iris.data\n",
    "y = iris.target\n",
    "\n",
    "fig = plt.figure(1, figsize=(4, 3))\n",
    "plt.clf()\n",
    "ax = Axes3D(fig, rect=[0, 0, .95, 1], elev=48, azim=134)\n",
    "\n",
    "plt.cla()\n",
    "pca = decomposition.PCA(n_components=3)\n",
    "pca.fit(X)\n",
    "X = pca.transform(X)\n",
    "\n",
    "for name, label in [('Setosa', 0), ('Versicolour', 1), ('Virginica', 2)]:\n",
    "    ax.text3D(X[y == label, 0].mean(),\n",
    "              X[y == label, 1].mean() + 1.5,\n",
    "              X[y == label, 2].mean(), name,\n",
    "              horizontalalignment='center',\n",
    "              bbox=dict(alpha=.5, edgecolor='w', facecolor='w'))\n",
    "# Reorder the labels to have colors matching the cluster results\n",
    "y = np.choose(y, [1, 2, 0]).astype(np.float)\n",
    "ax.scatter(X[:, 0], X[:, 1], X[:, 2], c=y, cmap=plt.cm.spectral)\n",
    "\n",
    "ax.w_xaxis.set_ticklabels([])\n",
    "ax.w_yaxis.set_ticklabels([])\n",
    "ax.w_zaxis.set_ticklabels([])\n",
    "\n",
    "plt.show()"
   ]
  },
  {
   "cell_type": "code",
   "execution_count": null,
   "metadata": {
    "collapsed": true
   },
   "outputs": [],
   "source": []
  }
 ],
 "metadata": {
  "anaconda-cloud": {},
  "kernelspec": {
   "display_name": "Python [conda root]",
   "language": "python",
   "name": "conda-root-py"
  },
  "language_info": {
   "codemirror_mode": {
    "name": "ipython",
    "version": 3
   },
   "file_extension": ".py",
   "mimetype": "text/x-python",
   "name": "python",
   "nbconvert_exporter": "python",
   "pygments_lexer": "ipython3",
   "version": "3.5.2"
  }
 },
 "nbformat": 4,
 "nbformat_minor": 1
}
